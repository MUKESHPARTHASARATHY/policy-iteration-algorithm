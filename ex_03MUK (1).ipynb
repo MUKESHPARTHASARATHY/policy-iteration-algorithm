{
  "cells": [
    {
      "cell_type": "code",
      "source": [
        "import warnings ; warnings.filterwarnings('ignore')\n",
        "\n",
        "import gym, gym_walk\n",
        "import numpy as np\n",
        "\n",
        "import random\n",
        "import warnings\n",
        "\n",
        "warnings.filterwarnings('ignore', category=DeprecationWarning)\n",
        "np.set_printoptions(suppress=True)\n",
        "random.seed(123); np.random.seed(123)"
      ],
      "metadata": {
        "id": "Ppp15J_1BJa4"
      },
      "execution_count": null,
      "outputs": []
    },
    {
      "cell_type": "code",
      "source": [
        "pip install git+https://github.com/mimoralea/gym-walk#egg=gym-walk"
      ],
      "metadata": {
        "colab": {
          "base_uri": "https://localhost:8080/"
        },
        "id": "A-VF0AhuN5AX",
        "outputId": "dc3d249a-873b-4989-c235-9c6fefd4dc90"
      },
      "execution_count": null,
      "outputs": [
        {
          "metadata": {
            "tags": null
          },
          "name": "stdout",
          "output_type": "stream",
          "text": [
            "Collecting gym-walk\n",
            "  Cloning https://github.com/mimoralea/gym-walk to /tmp/pip-install-_7zgak_m/gym-walk_80adb819d12c44c3b682d6ceb6173932\n",
            "  Running command git clone --filter=blob:none --quiet https://github.com/mimoralea/gym-walk /tmp/pip-install-_7zgak_m/gym-walk_80adb819d12c44c3b682d6ceb6173932\n",
            "  Resolved https://github.com/mimoralea/gym-walk to commit b915b94cf2ad16f8833a1ad92ea94e88159279f5\n",
            "  Preparing metadata (setup.py) ... \u001b[?25l\u001b[?25hdone\n",
            "Requirement already satisfied: gym in /usr/local/lib/python3.12/dist-packages (from gym-walk) (0.25.2)\n",
            "Requirement already satisfied: numpy>=1.18.0 in /usr/local/lib/python3.12/dist-packages (from gym->gym-walk) (2.0.2)\n",
            "Requirement already satisfied: cloudpickle>=1.2.0 in /usr/local/lib/python3.12/dist-packages (from gym->gym-walk) (3.1.1)\n",
            "Requirement already satisfied: gym-notices>=0.0.4 in /usr/local/lib/python3.12/dist-packages (from gym->gym-walk) (0.1.0)\n",
            "Building wheels for collected packages: gym-walk\n",
            "  Building wheel for gym-walk (setup.py) ... \u001b[?25l\u001b[?25hdone\n",
            "  Created wheel for gym-walk: filename=gym_walk-0.0.2-py3-none-any.whl size=5377 sha256=1cc0a6c1d258c8d6804efbf6f42b5de119bf9ef8aab0f0585adb78a672d92e46\n",
            "  Stored in directory: /tmp/pip-ephem-wheel-cache-6sy3628l/wheels/bf/23/e5/a94be4a90dd18f7ce958c21f192276cb01ef0daaf2bc66583b\n",
            "Successfully built gym-walk\n",
            "Installing collected packages: gym-walk\n",
            "Successfully installed gym-walk-0.0.2\n"
          ]
        }
      ]
    },
    {
      "cell_type": "code",
      "source": [
        "def print_policy(pi, P, action_symbols=('<', 'v', '>', '^'), n_cols=4, title='Policy:'):\n",
        "    print(title)\n",
        "    arrs = {k:v for k,v in enumerate(action_symbols)}\n",
        "    for s in range(len(P)):\n",
        "        a = pi(s)\n",
        "        print(\"| \", end=\"\")\n",
        "        if np.all([done for action in P[s].values() for _, _, _, done in action]):\n",
        "            print(\"\".rjust(9), end=\" \")\n",
        "        else:\n",
        "            print(str(s).zfill(2), arrs[a].rjust(6), end=\" \")\n",
        "        if (s + 1) % n_cols == 0: print(\"|\")"
      ],
      "metadata": {
        "id": "UTGmnon_BM-y"
      },
      "execution_count": null,
      "outputs": []
    },
    {
      "cell_type": "code",
      "source": [
        "def print_state_value_function(V, P, n_cols=4, prec=3, title='State-value function:'):\n",
        "    print(title)\n",
        "    for s in range(len(P)):\n",
        "        v = V[s]\n",
        "        print(\"| \", end=\"\")\n",
        "        if np.all([done for action in P[s].values() for _, _, _, done in action]):\n",
        "            print(\"\".rjust(9), end=\" \")\n",
        "        else:\n",
        "            print(str(s).zfill(2), '{}'.format(np.round(v, prec)).rjust(6), end=\" \")\n",
        "        if (s + 1) % n_cols == 0: print(\"|\")"
      ],
      "metadata": {
        "id": "vnesAcbvBkGC"
      },
      "execution_count": null,
      "outputs": []
    },
    {
      "cell_type": "code",
      "source": [
        "def probability_success(env, pi, goal_state, n_episodes=100, max_steps=200):\n",
        "    random.seed(123); np.random.seed(123) ; env.seed(123)\n",
        "    results = []\n",
        "    for _ in range(n_episodes):\n",
        "        state, done, steps = env.reset(), False, 0\n",
        "        while not done and steps < max_steps:\n",
        "            state, _, done, h = env.step(pi(state))\n",
        "            steps += 1\n",
        "        results.append(state == goal_state)\n",
        "    return np.sum(results)/len(results)"
      ],
      "metadata": {
        "id": "yjuNN7ioBn04"
      },
      "execution_count": null,
      "outputs": []
    },
    {
      "cell_type": "code",
      "source": [
        "def mean_return(env, pi, n_episodes=100, max_steps=200):\n",
        "    random.seed(123); np.random.seed(123) ; env.seed(123)\n",
        "    results = []\n",
        "    for _ in range(n_episodes):\n",
        "        state, done, steps = env.reset(), False, 0\n",
        "        results.append(0.0)\n",
        "        while not done and steps < max_steps:\n",
        "            state, reward, done, _ = env.step(pi(state))\n",
        "            results[-1] += reward\n",
        "            steps += 1\n",
        "    return np.mean(results)"
      ],
      "metadata": {
        "id": "fR2BmmtUBsp8"
      },
      "execution_count": null,
      "outputs": []
    },
    {
      "cell_type": "code",
      "source": [
        "env = gym.make('FrozenLake-v1')\n",
        "P = env.env.P\n",
        "init_state = env.reset()\n",
        "goal_state = 15\n",
        "LEFT, DOWN, RIGHT, UP = range(4)\n"
      ],
      "metadata": {
        "id": "HsgBJz96BwrT"
      },
      "execution_count": null,
      "outputs": []
    },
    {
      "cell_type": "code",
      "source": [
        "P"
      ],
      "metadata": {
        "colab": {
          "base_uri": "https://localhost:8080/"
        },
        "id": "qm1pwbYuByWb",
        "outputId": "557d7c64-5d8e-42fb-fca7-de7ca87feb2d"
      },
      "execution_count": null,
      "outputs": [
        {
          "output_type": "execute_result",
          "data": {
            "text/plain": [
              "{0: {0: [(0.3333333333333333, 0, 0.0, False),\n",
              "   (0.3333333333333333, 0, 0.0, False),\n",
              "   (0.3333333333333333, 4, 0.0, False)],\n",
              "  1: [(0.3333333333333333, 0, 0.0, False),\n",
              "   (0.3333333333333333, 4, 0.0, False),\n",
              "   (0.3333333333333333, 1, 0.0, False)],\n",
              "  2: [(0.3333333333333333, 4, 0.0, False),\n",
              "   (0.3333333333333333, 1, 0.0, False),\n",
              "   (0.3333333333333333, 0, 0.0, False)],\n",
              "  3: [(0.3333333333333333, 1, 0.0, False),\n",
              "   (0.3333333333333333, 0, 0.0, False),\n",
              "   (0.3333333333333333, 0, 0.0, False)]},\n",
              " 1: {0: [(0.3333333333333333, 1, 0.0, False),\n",
              "   (0.3333333333333333, 0, 0.0, False),\n",
              "   (0.3333333333333333, 5, 0.0, True)],\n",
              "  1: [(0.3333333333333333, 0, 0.0, False),\n",
              "   (0.3333333333333333, 5, 0.0, True),\n",
              "   (0.3333333333333333, 2, 0.0, False)],\n",
              "  2: [(0.3333333333333333, 5, 0.0, True),\n",
              "   (0.3333333333333333, 2, 0.0, False),\n",
              "   (0.3333333333333333, 1, 0.0, False)],\n",
              "  3: [(0.3333333333333333, 2, 0.0, False),\n",
              "   (0.3333333333333333, 1, 0.0, False),\n",
              "   (0.3333333333333333, 0, 0.0, False)]},\n",
              " 2: {0: [(0.3333333333333333, 2, 0.0, False),\n",
              "   (0.3333333333333333, 1, 0.0, False),\n",
              "   (0.3333333333333333, 6, 0.0, False)],\n",
              "  1: [(0.3333333333333333, 1, 0.0, False),\n",
              "   (0.3333333333333333, 6, 0.0, False),\n",
              "   (0.3333333333333333, 3, 0.0, False)],\n",
              "  2: [(0.3333333333333333, 6, 0.0, False),\n",
              "   (0.3333333333333333, 3, 0.0, False),\n",
              "   (0.3333333333333333, 2, 0.0, False)],\n",
              "  3: [(0.3333333333333333, 3, 0.0, False),\n",
              "   (0.3333333333333333, 2, 0.0, False),\n",
              "   (0.3333333333333333, 1, 0.0, False)]},\n",
              " 3: {0: [(0.3333333333333333, 3, 0.0, False),\n",
              "   (0.3333333333333333, 2, 0.0, False),\n",
              "   (0.3333333333333333, 7, 0.0, True)],\n",
              "  1: [(0.3333333333333333, 2, 0.0, False),\n",
              "   (0.3333333333333333, 7, 0.0, True),\n",
              "   (0.3333333333333333, 3, 0.0, False)],\n",
              "  2: [(0.3333333333333333, 7, 0.0, True),\n",
              "   (0.3333333333333333, 3, 0.0, False),\n",
              "   (0.3333333333333333, 3, 0.0, False)],\n",
              "  3: [(0.3333333333333333, 3, 0.0, False),\n",
              "   (0.3333333333333333, 3, 0.0, False),\n",
              "   (0.3333333333333333, 2, 0.0, False)]},\n",
              " 4: {0: [(0.3333333333333333, 0, 0.0, False),\n",
              "   (0.3333333333333333, 4, 0.0, False),\n",
              "   (0.3333333333333333, 8, 0.0, False)],\n",
              "  1: [(0.3333333333333333, 4, 0.0, False),\n",
              "   (0.3333333333333333, 8, 0.0, False),\n",
              "   (0.3333333333333333, 5, 0.0, True)],\n",
              "  2: [(0.3333333333333333, 8, 0.0, False),\n",
              "   (0.3333333333333333, 5, 0.0, True),\n",
              "   (0.3333333333333333, 0, 0.0, False)],\n",
              "  3: [(0.3333333333333333, 5, 0.0, True),\n",
              "   (0.3333333333333333, 0, 0.0, False),\n",
              "   (0.3333333333333333, 4, 0.0, False)]},\n",
              " 5: {0: [(1.0, 5, 0, True)],\n",
              "  1: [(1.0, 5, 0, True)],\n",
              "  2: [(1.0, 5, 0, True)],\n",
              "  3: [(1.0, 5, 0, True)]},\n",
              " 6: {0: [(0.3333333333333333, 2, 0.0, False),\n",
              "   (0.3333333333333333, 5, 0.0, True),\n",
              "   (0.3333333333333333, 10, 0.0, False)],\n",
              "  1: [(0.3333333333333333, 5, 0.0, True),\n",
              "   (0.3333333333333333, 10, 0.0, False),\n",
              "   (0.3333333333333333, 7, 0.0, True)],\n",
              "  2: [(0.3333333333333333, 10, 0.0, False),\n",
              "   (0.3333333333333333, 7, 0.0, True),\n",
              "   (0.3333333333333333, 2, 0.0, False)],\n",
              "  3: [(0.3333333333333333, 7, 0.0, True),\n",
              "   (0.3333333333333333, 2, 0.0, False),\n",
              "   (0.3333333333333333, 5, 0.0, True)]},\n",
              " 7: {0: [(1.0, 7, 0, True)],\n",
              "  1: [(1.0, 7, 0, True)],\n",
              "  2: [(1.0, 7, 0, True)],\n",
              "  3: [(1.0, 7, 0, True)]},\n",
              " 8: {0: [(0.3333333333333333, 4, 0.0, False),\n",
              "   (0.3333333333333333, 8, 0.0, False),\n",
              "   (0.3333333333333333, 12, 0.0, True)],\n",
              "  1: [(0.3333333333333333, 8, 0.0, False),\n",
              "   (0.3333333333333333, 12, 0.0, True),\n",
              "   (0.3333333333333333, 9, 0.0, False)],\n",
              "  2: [(0.3333333333333333, 12, 0.0, True),\n",
              "   (0.3333333333333333, 9, 0.0, False),\n",
              "   (0.3333333333333333, 4, 0.0, False)],\n",
              "  3: [(0.3333333333333333, 9, 0.0, False),\n",
              "   (0.3333333333333333, 4, 0.0, False),\n",
              "   (0.3333333333333333, 8, 0.0, False)]},\n",
              " 9: {0: [(0.3333333333333333, 5, 0.0, True),\n",
              "   (0.3333333333333333, 8, 0.0, False),\n",
              "   (0.3333333333333333, 13, 0.0, False)],\n",
              "  1: [(0.3333333333333333, 8, 0.0, False),\n",
              "   (0.3333333333333333, 13, 0.0, False),\n",
              "   (0.3333333333333333, 10, 0.0, False)],\n",
              "  2: [(0.3333333333333333, 13, 0.0, False),\n",
              "   (0.3333333333333333, 10, 0.0, False),\n",
              "   (0.3333333333333333, 5, 0.0, True)],\n",
              "  3: [(0.3333333333333333, 10, 0.0, False),\n",
              "   (0.3333333333333333, 5, 0.0, True),\n",
              "   (0.3333333333333333, 8, 0.0, False)]},\n",
              " 10: {0: [(0.3333333333333333, 6, 0.0, False),\n",
              "   (0.3333333333333333, 9, 0.0, False),\n",
              "   (0.3333333333333333, 14, 0.0, False)],\n",
              "  1: [(0.3333333333333333, 9, 0.0, False),\n",
              "   (0.3333333333333333, 14, 0.0, False),\n",
              "   (0.3333333333333333, 11, 0.0, True)],\n",
              "  2: [(0.3333333333333333, 14, 0.0, False),\n",
              "   (0.3333333333333333, 11, 0.0, True),\n",
              "   (0.3333333333333333, 6, 0.0, False)],\n",
              "  3: [(0.3333333333333333, 11, 0.0, True),\n",
              "   (0.3333333333333333, 6, 0.0, False),\n",
              "   (0.3333333333333333, 9, 0.0, False)]},\n",
              " 11: {0: [(1.0, 11, 0, True)],\n",
              "  1: [(1.0, 11, 0, True)],\n",
              "  2: [(1.0, 11, 0, True)],\n",
              "  3: [(1.0, 11, 0, True)]},\n",
              " 12: {0: [(1.0, 12, 0, True)],\n",
              "  1: [(1.0, 12, 0, True)],\n",
              "  2: [(1.0, 12, 0, True)],\n",
              "  3: [(1.0, 12, 0, True)]},\n",
              " 13: {0: [(0.3333333333333333, 9, 0.0, False),\n",
              "   (0.3333333333333333, 12, 0.0, True),\n",
              "   (0.3333333333333333, 13, 0.0, False)],\n",
              "  1: [(0.3333333333333333, 12, 0.0, True),\n",
              "   (0.3333333333333333, 13, 0.0, False),\n",
              "   (0.3333333333333333, 14, 0.0, False)],\n",
              "  2: [(0.3333333333333333, 13, 0.0, False),\n",
              "   (0.3333333333333333, 14, 0.0, False),\n",
              "   (0.3333333333333333, 9, 0.0, False)],\n",
              "  3: [(0.3333333333333333, 14, 0.0, False),\n",
              "   (0.3333333333333333, 9, 0.0, False),\n",
              "   (0.3333333333333333, 12, 0.0, True)]},\n",
              " 14: {0: [(0.3333333333333333, 10, 0.0, False),\n",
              "   (0.3333333333333333, 13, 0.0, False),\n",
              "   (0.3333333333333333, 14, 0.0, False)],\n",
              "  1: [(0.3333333333333333, 13, 0.0, False),\n",
              "   (0.3333333333333333, 14, 0.0, False),\n",
              "   (0.3333333333333333, 15, 1.0, True)],\n",
              "  2: [(0.3333333333333333, 14, 0.0, False),\n",
              "   (0.3333333333333333, 15, 1.0, True),\n",
              "   (0.3333333333333333, 10, 0.0, False)],\n",
              "  3: [(0.3333333333333333, 15, 1.0, True),\n",
              "   (0.3333333333333333, 10, 0.0, False),\n",
              "   (0.3333333333333333, 13, 0.0, False)]},\n",
              " 15: {0: [(1.0, 15, 0, True)],\n",
              "  1: [(1.0, 15, 0, True)],\n",
              "  2: [(1.0, 15, 0, True)],\n",
              "  3: [(1.0, 15, 0, True)]}}"
            ]
          },
          "metadata": {},
          "execution_count": 9
        }
      ]
    },
    {
      "cell_type": "code",
      "source": [
        "init_state"
      ],
      "metadata": {
        "colab": {
          "base_uri": "https://localhost:8080/"
        },
        "id": "s7rOfXGrB0oo",
        "outputId": "0ba94352-799a-44bb-bb1c-7850082566e1"
      },
      "execution_count": null,
      "outputs": [
        {
          "output_type": "execute_result",
          "data": {
            "text/plain": [
              "0"
            ]
          },
          "metadata": {},
          "execution_count": 10
        }
      ]
    },
    {
      "cell_type": "code",
      "source": [
        "state, reward, done, info = env.step(RIGHT)\n",
        "print(\"state:{0} - reward:{1} - done:{2} - info:{3}\".format(state, reward, done, info))"
      ],
      "metadata": {
        "colab": {
          "base_uri": "https://localhost:8080/"
        },
        "id": "Wy4v8jCfB4qj",
        "outputId": "cf4de965-f860-4a76-9c82-dfc9a8b71df3"
      },
      "execution_count": null,
      "outputs": [
        {
          "output_type": "stream",
          "name": "stdout",
          "text": [
            "state:1 - reward:0.0 - done:False - info:{'prob': 0.3333333333333333}\n"
          ]
        }
      ]
    },
    {
      "cell_type": "code",
      "source": [
        "pi_frozenlake1 = lambda s: {\n",
        "    0: RIGHT,\n",
        "    1: RIGHT,\n",
        "    2: RIGHT,\n",
        "    3: RIGHT,\n",
        "    4: RIGHT,\n",
        "    5: RIGHT,\n",
        "    6: RIGHT,\n",
        "    7: RIGHT,\n",
        "    8: RIGHT,\n",
        "    9: RIGHT,\n",
        "    10:RIGHT,\n",
        "    11:RIGHT,\n",
        "    12:RIGHT,\n",
        "    13:RIGHT,\n",
        "    14:RIGHT,\n",
        "    15:RIGHT #Stop\n",
        "}[s]\n",
        "print(\"Name: MUKESH P     \")\n",
        "print(\"Register Number:  212222240068       \")\n",
        "print_policy(pi_frozenlake1, P, action_symbols=('<', 'v', '>', '^'), n_cols=4)"
      ],
      "metadata": {
        "colab": {
          "base_uri": "https://localhost:8080/"
        },
        "id": "Vca6h_2hB-Lt",
        "outputId": "bff20b01-b001-43a2-bcb3-eb737d88812c"
      },
      "execution_count": null,
      "outputs": [
        {
          "output_type": "stream",
          "name": "stdout",
          "text": [
            "Name: MUKESH P     \n",
            "Register Number:  212222240068       \n",
            "Policy:\n",
            "| 00      > | 01      > | 02      > | 03      > |\n",
            "| 04      > |           | 06      > |           |\n",
            "| 08      > | 09      > | 10      > |           |\n",
            "|           | 13      > | 14      > |           |\n"
          ]
        }
      ]
    },
    {
      "cell_type": "code",
      "source": [
        "def policy_evaluation(pi, P, gamma=1.0, theta=1e-10):\n",
        "    prev_V = np.zeros(len(P), dtype=np.float64)\n",
        "    while True:\n",
        "        V = np.zeros(len(P), dtype=np.float64)\n",
        "        for s in range(len(P)):\n",
        "            for prob, next_state, reward, done in P[s][pi(s)]:\n",
        "                V[s] += prob * (reward + gamma * prev_V[next_state] * (not done))\n",
        "        if np.max(np.abs(prev_V - V)) < theta:\n",
        "            break\n",
        "        prev_V = V.copy()\n",
        "    return V\n",
        "\n",
        "\n",
        "# Code to evaluate the adversarial policy\n",
        "V1 = policy_evaluation(pi_frozenlake1, P)\n",
        "print(\"Name: MUKESH P     \")\n",
        "print(\"Register Number: 212222240068        \")\n",
        "print_state_value_function(V1, P, n_cols=4, prec=5)"
      ],
      "metadata": {
        "colab": {
          "base_uri": "https://localhost:8080/"
        },
        "id": "PDVn0On_CH4r",
        "outputId": "e82ce900-ec03-464c-a0da-d2683a7dfac8"
      },
      "execution_count": null,
      "outputs": [
        {
          "output_type": "stream",
          "name": "stdout",
          "text": [
            "Name: MUKESH P     \n",
            "Register Number: 212222240068        \n",
            "State-value function:\n",
            "| 00 0.0315 | 01 0.02381 | 02 0.04762 | 03    0.0 |\n",
            "| 04 0.03919 |           | 06 0.09524 |           |\n",
            "| 08 0.08608 | 09 0.21905 | 10 0.2381 |           |\n",
            "|           | 13 0.41905 | 14 0.61905 |           |\n"
          ]
        }
      ]
    },
    {
      "cell_type": "code",
      "source": [
        "pi_frozenlake1 = lambda s: {\n",
        "    0: RIGHT,\n",
        "    1: RIGHT,\n",
        "    2: RIGHT,\n",
        "    3: RIGHT,\n",
        "    4: RIGHT,\n",
        "    5: RIGHT,\n",
        "    6: RIGHT,\n",
        "    7: RIGHT,\n",
        "    8: RIGHT,\n",
        "    9: RIGHT,\n",
        "    10:RIGHT,\n",
        "    11:RIGHT,\n",
        "    12:RIGHT,\n",
        "    13:RIGHT,\n",
        "    14:RIGHT,\n",
        "    15:RIGHT #Stop\n",
        "}[s]\n",
        "print(\"Name: MUKESH P     \")\n",
        "print(\"Register Number:  212222240068       \")\n",
        "print_policy(pi_frozenlake1, P, action_symbols=('<', 'v', '>', '^'), n_cols=4)"
      ],
      "metadata": {
        "colab": {
          "base_uri": "https://localhost:8080/"
        },
        "id": "MhLoxujWTCVA",
        "outputId": "ba88496b-dfdf-45d5-aa72-62b328b039b0"
      },
      "execution_count": null,
      "outputs": [
        {
          "output_type": "stream",
          "name": "stdout",
          "text": [
            "Name: MUKESH P     \n",
            "Register Number:  212222240068       \n",
            "Policy:\n",
            "| 00      > | 01      > | 02      > | 03      > |\n",
            "| 04      > |           | 06      > |           |\n",
            "| 08      > | 09      > | 10      > |           |\n",
            "|           | 13      > | 14      > |           |\n"
          ]
        }
      ]
    },
    {
      "cell_type": "code",
      "source": [
        "def policy_improvement(V, P, gamma=1.0):\n",
        "    Q = np.zeros((len(P), len(P[0])), dtype=np.float64)\n",
        "    # Write your code here to improve the given policy\n",
        "    for s in range(len(P)):\n",
        "        for a in range(len(P[s])):\n",
        "            for prob, next_state, reward, done in P[s][a]:\n",
        "                Q[s][a] += prob * (reward + gamma * V[next_state] * (not done))\n",
        "\n",
        "    # Determine the best action for each state\n",
        "    new_pi = np.argmax(Q, axis=1)\n",
        "\n",
        "    return new_pi"
      ],
      "metadata": {
        "id": "8-Qkh2RJCUKu"
      },
      "execution_count": null,
      "outputs": []
    },
    {
      "cell_type": "code",
      "source": [
        "def callable_policy(pi_array):\n",
        "    return lambda s: pi_array[s]\n",
        "\n",
        "pi_2_array = policy_improvement(V1, P)\n",
        "pi_2 = callable_policy(pi_2_array)\n",
        "\n",
        "print(\"Name:  MUKESH P   \")\n",
        "print(\"Register Number:212222240068        \")\n",
        "print_policy(pi_2, P, action_symbols=('<', 'v', '>', '^'), n_cols=4)"
      ],
      "metadata": {
        "colab": {
          "base_uri": "https://localhost:8080/"
        },
        "id": "47ArX30mDFp5",
        "outputId": "ae4d69bb-2887-46a2-f5e4-2c18c33d3930"
      },
      "execution_count": null,
      "outputs": [
        {
          "output_type": "stream",
          "name": "stdout",
          "text": [
            "Name:  MUKESH P   \n",
            "Register Number:212222240068        \n",
            "Policy:\n",
            "| 00      < | 01      ^ | 02      < | 03      < |\n",
            "| 04      < |           | 06      < |           |\n",
            "| 08      ^ | 09      v | 10      < |           |\n",
            "|           | 13      > | 14      v |           |\n"
          ]
        }
      ]
    },
    {
      "cell_type": "code",
      "source": [
        "print('Reaches goal {:.2f}%. Obtains an average undiscounted return of {:.4f}.'.format(\n",
        "    probability_success(env, pi_2, goal_state=goal_state)*100,\n",
        "    mean_return(env, pi_2)))"
      ],
      "metadata": {
        "colab": {
          "base_uri": "https://localhost:8080/"
        },
        "id": "Mugqj6TEEX8Y",
        "outputId": "9e641ac8-ea3f-41f6-f34b-8acc1f3f5da1"
      },
      "execution_count": null,
      "outputs": [
        {
          "output_type": "stream",
          "name": "stdout",
          "text": [
            "Reaches goal 66.00%. Obtains an average undiscounted return of 0.6600.\n"
          ]
        }
      ]
    },
    {
      "cell_type": "code",
      "source": [
        "V2 = policy_evaluation(pi_2, P)\n",
        "print(\"Name:  MUKESH P    \")\n",
        "print(\"Register Number:  212222240068       \")\n",
        "print_state_value_function(V2, P, n_cols=4, prec=5)"
      ],
      "metadata": {
        "colab": {
          "base_uri": "https://localhost:8080/"
        },
        "id": "X-v4dkquEbzf",
        "outputId": "7927ae82-0071-4fad-e018-7254eb90bc10"
      },
      "execution_count": null,
      "outputs": [
        {
          "output_type": "stream",
          "name": "stdout",
          "text": [
            "Name:  MUKESH P    \n",
            "Register Number:  212222240068       \n",
            "State-value function:\n",
            "| 00 0.78049 | 01 0.65854 | 02 0.53659 | 03 0.26829 |\n",
            "| 04 0.78049 |           | 06 0.41463 |           |\n",
            "| 08 0.78049 | 09 0.78049 | 10 0.70732 |           |\n",
            "|           | 13 0.85366 | 14 0.92683 |           |\n"
          ]
        }
      ]
    },
    {
      "cell_type": "code",
      "source": [
        "if(np.sum(V1>=V2)==16):\n",
        "  print(\"The Adversarial policy is the better policy\")\n",
        "elif(np.sum(V2>=V1)==16):\n",
        "  print(\"The Improved policy is the better policy\")\n",
        "else:\n",
        "  print(\"Both policies have their merits.\")"
      ],
      "metadata": {
        "colab": {
          "base_uri": "https://localhost:8080/"
        },
        "id": "oD4CSK_uEfue",
        "outputId": "2a8dbe11-5fcf-4688-9bf8-9cd9aea0d1d2"
      },
      "execution_count": null,
      "outputs": [
        {
          "output_type": "stream",
          "name": "stdout",
          "text": [
            "The Improved policy is the better policy\n"
          ]
        }
      ]
    },
    {
      "cell_type": "code",
      "metadata": {
        "id": "6277868e-1909-4d22-85b2-66a0917b979b",
        "outputId": "46e511c9-d090-4625-8032-925057466b34",
        "colab": {
          "base_uri": "https://localhost:8080/"
        }
      },
      "source": [
        "def policy_iteration(P, gamma=1.0, theta=1e-10):\n",
        "    # Write your code here for policy iteration\n",
        "    n_states = len(P)\n",
        "    n_actions = len(P[0])\n",
        "\n",
        "    # Initialize a random policy\n",
        "    pi = np.random.randint(0, n_actions, n_states)\n",
        "\n",
        "    while True:\n",
        "        # Policy Evaluation\n",
        "        V = np.zeros(n_states, dtype=np.float64)\n",
        "        while True:\n",
        "            prev_V = V.copy()\n",
        "            for s in range(n_states):\n",
        "                v = 0\n",
        "                action = pi[s]\n",
        "                for prob, next_state, reward, done in P[s][action]:\n",
        "                    v += prob * (reward + gamma * prev_V[next_state] * (not done))\n",
        "                V[s] = v\n",
        "            if np.max(np.abs(prev_V - V)) < theta:\n",
        "                break\n",
        "\n",
        "        # Policy Improvement\n",
        "        new_pi = np.zeros(n_states, dtype=np.int64)\n",
        "        Q = np.zeros((n_states, n_actions), dtype=np.float64)\n",
        "        for s in range(n_states):\n",
        "            for a in range(n_actions):\n",
        "                for prob, next_state, reward, done in P[s][a]:\n",
        "                    Q[s][a] += prob * (reward + gamma * V[next_state] * (not done))\n",
        "            new_pi[s] = np.argmax(Q[s])\n",
        "\n",
        "        # Check for policy convergence\n",
        "        if np.array_equal(pi, new_pi):\n",
        "            break\n",
        "        pi = new_pi\n",
        "\n",
        "    return V, callable_policy(pi)\n",
        "optimal_V, optimal_pi = policy_iteration(P)\n",
        "\n",
        "\n",
        "print(\"Name:   MUKESH P   \")\n",
        "print(\"Register Number:  212222240068       \")\n",
        "print('Optimal policy and state-value function (PI):')\n",
        "print_policy(optimal_pi, P, action_symbols=('<', 'v', '>', '^'), n_cols=4)"
      ],
      "execution_count": null,
      "outputs": [
        {
          "output_type": "stream",
          "name": "stdout",
          "text": [
            "Name:   MUKESH P   \n",
            "Register Number:  212222240068       \n",
            "Optimal policy and state-value function (PI):\n",
            "Policy:\n",
            "| 00      < | 01      ^ | 02      ^ | 03      ^ |\n",
            "| 04      < |           | 06      < |           |\n",
            "| 08      ^ | 09      v | 10      < |           |\n",
            "|           | 13      > | 14      v |           |\n"
          ]
        }
      ]
    },
    {
      "cell_type": "code",
      "source": [
        "\n",
        "print('Reaches goal {:.2f}%. Obtains an average undiscounted return of {:.4f}.'.format(\n",
        "    probability_success(env, optimal_pi, goal_state=goal_state)*100,\n",
        "    mean_return(env, optimal_pi)))"
      ],
      "metadata": {
        "id": "C_TJgovKE77o",
        "outputId": "b8366895-e4b0-43cc-80dd-ac72f1854fa4",
        "colab": {
          "base_uri": "https://localhost:8080/"
        }
      },
      "execution_count": null,
      "outputs": [
        {
          "output_type": "stream",
          "name": "stdout",
          "text": [
            "Reaches goal 69.00%. Obtains an average undiscounted return of 0.6900.\n"
          ]
        }
      ]
    },
    {
      "cell_type": "code",
      "source": [
        "print(\"Name: MUKESH P     \")\n",
        "print(\"Register Number: 212222240068        \")\n",
        "print_state_value_function(optimal_V, P, n_cols=7, prec=5)"
      ],
      "metadata": {
        "id": "lLKTW9AkE_8W",
        "outputId": "13fb209a-0034-42b9-eccb-b517b24a2803",
        "colab": {
          "base_uri": "https://localhost:8080/"
        }
      },
      "execution_count": null,
      "outputs": [
        {
          "output_type": "stream",
          "name": "stdout",
          "text": [
            "Name: MUKESH P     \n",
            "Register Number: 212222240068        \n",
            "State-value function:\n",
            "| 00 0.82353 | 01 0.82353 | 02 0.82353 | 03 0.82353 | 04 0.82353 |           | 06 0.52941 |\n",
            "|           | 08 0.82353 | 09 0.82353 | 10 0.76471 |           |           | 13 0.88235 |\n",
            "| 14 0.94118 |           "
          ]
        }
      ]
    }
  ],
  "metadata": {
    "colab": {
      "toc_visible": true,
      "provenance": []
    },
    "kernelspec": {
      "display_name": "Python 3",
      "name": "python3"
    }
  },
  "nbformat": 4,
  "nbformat_minor": 0
}